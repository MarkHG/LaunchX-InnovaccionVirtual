{
 "cells": [
  {
   "cell_type": "markdown",
   "metadata": {},
   "source": [
    "# Ejercicio: Uso de funciones en Python"
   ]
  },
  {
   "cell_type": "markdown",
   "metadata": {},
   "source": [
    "### Ejercicio: Uso de funciones en Python"
   ]
  },
  {
   "cell_type": "markdown",
   "metadata": {},
   "source": [
    "Los argumentos requeridos en las funciones se utilizan cuando las funciones necesitan que esos argumentos funcionen correctamente. En este ejercicio, construirás un informe de combustible que requiere información de varias ubicaciones de combustible en todo el cohete.\n",
    "\n",
    "TIP Dedica unos minutos para tratar de encontrar una solución. Luego desplázate hacia abajo hasta la parte inferior para ver si has logrado compilar el programa de acuerdo con las especificaciones\n",
    "\n",
    "Comienza por crear una función que necesite tres lecturas de combustible y devuelva un informe:"
   ]
  },
  {
   "cell_type": "code",
   "execution_count": 13,
   "metadata": {},
   "outputs": [],
   "source": [
    "# Función para leer 3 tanques de combustible y muestre el promedio\n",
    "\n",
    "def tank(fuel_one,fuel_two,fuel_three):\n",
    "    print('''tank one {tank_one}\n",
    "    tank two {tank_two}\n",
    "    tank three {tank_three}''')\n",
    "    avg = (fuel_one + fuel_two + fuel_three) / 3\n",
    "    return avg\n"
   ]
  },
  {
   "cell_type": "markdown",
   "metadata": {},
   "source": [
    "Ahora que hemos definido la función de informes, vamos a comprobarlo. Para esta misión, los tanques no están llenos:"
   ]
  },
  {
   "cell_type": "code",
   "execution_count": 14,
   "metadata": {},
   "outputs": [
    {
     "name": "stdout",
     "output_type": "stream",
     "text": [
      "avg\n",
      "tank one {tank_one}\n",
      "    tank two {tank_two}\n",
      "    tank three {tank_three}\n"
     ]
    },
    {
     "data": {
      "text/plain": [
       "103.33333333333333"
      ]
     },
     "execution_count": 14,
     "metadata": {},
     "output_type": "execute_result"
    }
   ],
   "source": [
    "# Llamamos a la función que genera el reporte print(funcion(tanque1, tanque2, tanque3))\n",
    "print(\"avg\")\n",
    "tank(200,80,30)"
   ]
  },
  {
   "cell_type": "markdown",
   "metadata": {},
   "source": [
    "En lugar de simplemente crear el informe, la función también está calculando el promedio. Mejora la legibilidad extrayendo el cálculo promedio de la función en una nueva función para que el promedio se pueda hacer de forma independiente:"
   ]
  },
  {
   "cell_type": "code",
   "execution_count": 17,
   "metadata": {},
   "outputs": [
    {
     "name": "stdout",
     "output_type": "stream",
     "text": [
      "Average\n"
     ]
    },
    {
     "data": {
      "text/plain": [
       "103.33333333333333"
      ]
     },
     "execution_count": 17,
     "metadata": {},
     "output_type": "execute_result"
    }
   ],
   "source": [
    "# Función promedio \n",
    "\n",
    "def avg (fuel_one,fuel_two,fuel_three):\n",
    "    avg = (fuel_one + fuel_two + fuel_three) / 3\n",
    "    return avg\n",
    "print('Average')\n",
    "avg(200,80,30)"
   ]
  },
  {
   "cell_type": "markdown",
   "metadata": {},
   "source": [
    "# Ejercicio 2: Trabajo con argumentos de palabra clave"
   ]
  },
  {
   "cell_type": "markdown",
   "metadata": {},
   "source": [
    "### Ejercicio : Trabajar con argumentos de palabras clave en funciones\n"
   ]
  },
  {
   "cell_type": "markdown",
   "metadata": {},
   "source": [
    "En este ejercicio, construirás un informe de cohete que requiere varias piezas de información, como el tiempo hasta el destino, el combustible a la izquierda y el nombre del destino. Comienza por crear una función que creará un informe preciso de la misión:"
   ]
  },
  {
   "cell_type": "code",
   "execution_count": 56,
   "metadata": {},
   "outputs": [
    {
     "name": "stdout",
     "output_type": "stream",
     "text": [
      "\n",
      "    Destino: Marte\n",
      "    Tiempo total: 150\n",
      "    Combustible: 1400933\n",
      "\n",
      "    \n"
     ]
    }
   ],
   "source": [
    "'''\n",
    " Función con un informe preciso de la misión. \n",
    " Considera hora de prelanzamiento, tiempo de vuelo, destino, tanque externo y tanque interno\n",
    "'''\n",
    "\n",
    "def informe_cohete(pre_lazamiento, tiempo_vuelo, destino, tanque_externo, tanque_interno):\n",
    "    tiempo_total = pre_lazamiento + tiempo_vuelo\n",
    "    combustible = tanque_externo + tanque_interno\n",
    "    return f'''\n",
    "    Destino: {destino}\n",
    "    Tiempo total: {tiempo_total}\n",
    "    Combustible: {combustible}\n",
    "\n",
    "    '''\n",
    "print(informe_cohete(30, 120, \"Marte\", 1000000, 400933))\n",
    "\n"
   ]
  },
  {
   "cell_type": "markdown",
   "metadata": {},
   "source": [
    "La función es problemática porque no se puede adaptar para minutos adicionales o tanques adicionales de combustible. Hazlo más flexible permitiendo cualquier número de pasos basados en el tiempo y cualquier número de tanques. En lugar de usar *args y **kwargs, aprovecha el hecho de que puedes usar cualquier nombre que desees. Asegurate que la función sea más legible mediante el uso de nombres de variables que están asociados con las entradas, como *minutes y **fuel_reservoirs:"
   ]
  },
  {
   "cell_type": "code",
   "execution_count": 55,
   "metadata": {},
   "outputs": [
    {
     "name": "stdout",
     "output_type": "stream",
     "text": [
      "\n",
      "    Destino: Marte\n",
      "    Tiempo total: 205\n",
      "    Combustible: 1400933\n",
      "\n",
      "    \n"
     ]
    }
   ],
   "source": [
    "\n",
    "def informe_cohete(destino, *minutes, **fuel_reservoirs):\n",
    "    return f'''\n",
    "    Destino: {destino}\n",
    "    Tiempo total: {sum(minutes)}\n",
    "    Combustible: {sum(fuel_reservoirs.values())}\n",
    "\n",
    "    '''\n",
    "\n",
    "print(informe_cohete(\"Marte\", 30, 120, 55, tanque_externo = 1000000, tanque_interno = 400933))"
   ]
  }
 ],
 "metadata": {
  "interpreter": {
   "hash": "916dbcbb3f70747c44a77c7bcd40155683ae19c65e1c03b4aa3499c5328201f1"
  },
  "kernelspec": {
   "display_name": "Python 3.8.10 64-bit",
   "language": "python",
   "name": "python3"
  },
  "language_info": {
   "codemirror_mode": {
    "name": "ipython",
    "version": 3
   },
   "file_extension": ".py",
   "mimetype": "text/x-python",
   "name": "python",
   "nbconvert_exporter": "python",
   "pygments_lexer": "ipython3",
   "version": "3.8.10"
  },
  "orig_nbformat": 4
 },
 "nbformat": 4,
 "nbformat_minor": 2
}
